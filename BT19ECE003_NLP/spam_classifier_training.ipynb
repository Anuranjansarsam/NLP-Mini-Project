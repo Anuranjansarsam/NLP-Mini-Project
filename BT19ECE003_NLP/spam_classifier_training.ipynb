{
  "metadata": {
    "kernelspec": {
      "name": "python",
      "display_name": "Python (Pyodide)",
      "language": "python"
    },
    "language_info": {
      "codemirror_mode": {
        "name": "python",
        "version": 3
      },
      "file_extension": ".py",
      "mimetype": "text/x-python",
      "name": "python",
      "nbconvert_exporter": "python",
      "pygments_lexer": "ipython3",
      "version": "3.8"
    }
  },
  "nbformat_minor": 4,
  "nbformat": 4,
  "cells": [
    {
      "cell_type": "code",
      "source": "import numpy as np\nimport pandas as pd",
      "metadata": {
        "trusted": true
      },
      "execution_count": 1,
      "outputs": []
    },
    {
      "cell_type": "markdown",
      "source": "## Constants",
      "metadata": {}
    },
    {
      "cell_type": "code",
      "source": "VOCABULARY_SIZE = 2500\n\nTRAINING_DATA = 'SpamData/02_Training/train-data.txt'\nTESTING_DATA = 'SpamData/02_Training/test-data.txt'\n\nTEST_FEATURE_MATRIX = 'SpamData/03_Testing/test-features.txt'\nTEST_TARGET_FILE = 'SpamData/03_Testing/test-target.txt'\n\nTOKEN_SPAM_PROB_FILE = 'SpamData/03_Testing/prob-spam.txt'\nTOKEN_HAM_PROB_FILE = 'SpamData/03_Testing/prob-ham.txt'\nTOKEN_ALL_PROB_FILE = 'SpamData/03_Testing/prob-all-tokens.txt'\n",
      "metadata": {
        "trusted": true
      },
      "execution_count": 2,
      "outputs": []
    },
    {
      "cell_type": "code",
      "source": "sparse_train_data = np.loadtxt(TRAINING_DATA, delimiter=' ',dtype='int')\nsparse_test_data = np.loadtxt(TESTING_DATA, delimiter=' ',dtype='int')",
      "metadata": {
        "trusted": true
      },
      "execution_count": 3,
      "outputs": [
        {
          "ename": "<class 'FileNotFoundError'>",
          "evalue": "SpamData/02_Training/train-data.txt not found.",
          "traceback": [
            "\u001b[0;31m---------------------------------------------------------------------------\u001b[0m",
            "\u001b[0;31mFileNotFoundError\u001b[0m                         Traceback (most recent call last)",
            "Cell \u001b[0;32mIn [3], line 1\u001b[0m\n\u001b[0;32m----> 1\u001b[0m sparse_train_data \u001b[38;5;241m=\u001b[39m \u001b[43mnp\u001b[49m\u001b[38;5;241;43m.\u001b[39;49m\u001b[43mloadtxt\u001b[49m\u001b[43m(\u001b[49m\u001b[43mTRAINING_DATA\u001b[49m\u001b[43m,\u001b[49m\u001b[43m \u001b[49m\u001b[43mdelimiter\u001b[49m\u001b[38;5;241;43m=\u001b[39;49m\u001b[38;5;124;43m'\u001b[39;49m\u001b[38;5;124;43m \u001b[39;49m\u001b[38;5;124;43m'\u001b[39;49m\u001b[43m,\u001b[49m\u001b[43mdtype\u001b[49m\u001b[38;5;241;43m=\u001b[39;49m\u001b[38;5;124;43m'\u001b[39;49m\u001b[38;5;124;43mint\u001b[39;49m\u001b[38;5;124;43m'\u001b[39;49m\u001b[43m)\u001b[49m\n\u001b[1;32m      2\u001b[0m sparse_test_data \u001b[38;5;241m=\u001b[39m np\u001b[38;5;241m.\u001b[39mloadtxt(TESTING_DATA, delimiter\u001b[38;5;241m=\u001b[39m\u001b[38;5;124m'\u001b[39m\u001b[38;5;124m \u001b[39m\u001b[38;5;124m'\u001b[39m,dtype\u001b[38;5;241m=\u001b[39m\u001b[38;5;124m'\u001b[39m\u001b[38;5;124mint\u001b[39m\u001b[38;5;124m'\u001b[39m)\n",
            "File \u001b[0;32m/lib/python3.10/site-packages/numpy/lib/npyio.py:1042\u001b[0m, in \u001b[0;36mloadtxt\u001b[0;34m(fname, dtype, comments, delimiter, converters, skiprows, usecols, unpack, ndmin, encoding, max_rows, like)\u001b[0m\n\u001b[1;32m   1040\u001b[0m     fname \u001b[38;5;241m=\u001b[39m os_fspath(fname)\n\u001b[1;32m   1041\u001b[0m \u001b[38;5;28;01mif\u001b[39;00m _is_string_like(fname):\n\u001b[0;32m-> 1042\u001b[0m     fh \u001b[38;5;241m=\u001b[39m \u001b[43mnp\u001b[49m\u001b[38;5;241;43m.\u001b[39;49m\u001b[43mlib\u001b[49m\u001b[38;5;241;43m.\u001b[39;49m\u001b[43m_datasource\u001b[49m\u001b[38;5;241;43m.\u001b[39;49m\u001b[43mopen\u001b[49m\u001b[43m(\u001b[49m\u001b[43mfname\u001b[49m\u001b[43m,\u001b[49m\u001b[43m \u001b[49m\u001b[38;5;124;43m'\u001b[39;49m\u001b[38;5;124;43mrt\u001b[39;49m\u001b[38;5;124;43m'\u001b[39;49m\u001b[43m,\u001b[49m\u001b[43m \u001b[49m\u001b[43mencoding\u001b[49m\u001b[38;5;241;43m=\u001b[39;49m\u001b[43mencoding\u001b[49m\u001b[43m)\u001b[49m\n\u001b[1;32m   1043\u001b[0m     fencoding \u001b[38;5;241m=\u001b[39m \u001b[38;5;28mgetattr\u001b[39m(fh, \u001b[38;5;124m'\u001b[39m\u001b[38;5;124mencoding\u001b[39m\u001b[38;5;124m'\u001b[39m, \u001b[38;5;124m'\u001b[39m\u001b[38;5;124mlatin1\u001b[39m\u001b[38;5;124m'\u001b[39m)\n\u001b[1;32m   1044\u001b[0m     line_iter \u001b[38;5;241m=\u001b[39m \u001b[38;5;28miter\u001b[39m(fh)\n",
            "File \u001b[0;32m/lib/python3.10/site-packages/numpy/lib/_datasource.py:193\u001b[0m, in \u001b[0;36mopen\u001b[0;34m(path, mode, destpath, encoding, newline)\u001b[0m\n\u001b[1;32m    156\u001b[0m \u001b[38;5;124;03m\"\"\"\u001b[39;00m\n\u001b[1;32m    157\u001b[0m \u001b[38;5;124;03mOpen `path` with `mode` and return the file object.\u001b[39;00m\n\u001b[1;32m    158\u001b[0m \n\u001b[0;32m   (...)\u001b[0m\n\u001b[1;32m    189\u001b[0m \n\u001b[1;32m    190\u001b[0m \u001b[38;5;124;03m\"\"\"\u001b[39;00m\n\u001b[1;32m    192\u001b[0m ds \u001b[38;5;241m=\u001b[39m DataSource(destpath)\n\u001b[0;32m--> 193\u001b[0m \u001b[38;5;28;01mreturn\u001b[39;00m \u001b[43mds\u001b[49m\u001b[38;5;241;43m.\u001b[39;49m\u001b[43mopen\u001b[49m\u001b[43m(\u001b[49m\u001b[43mpath\u001b[49m\u001b[43m,\u001b[49m\u001b[43m \u001b[49m\u001b[43mmode\u001b[49m\u001b[43m,\u001b[49m\u001b[43m \u001b[49m\u001b[43mencoding\u001b[49m\u001b[38;5;241;43m=\u001b[39;49m\u001b[43mencoding\u001b[49m\u001b[43m,\u001b[49m\u001b[43m \u001b[49m\u001b[43mnewline\u001b[49m\u001b[38;5;241;43m=\u001b[39;49m\u001b[43mnewline\u001b[49m\u001b[43m)\u001b[49m\n",
            "File \u001b[0;32m/lib/python3.10/site-packages/numpy/lib/_datasource.py:532\u001b[0m, in \u001b[0;36mDataSource.open\u001b[0;34m(self, path, mode, encoding, newline)\u001b[0m\n\u001b[1;32m    529\u001b[0m     \u001b[38;5;28;01mreturn\u001b[39;00m _file_openers[ext](found, mode\u001b[38;5;241m=\u001b[39mmode,\n\u001b[1;32m    530\u001b[0m                               encoding\u001b[38;5;241m=\u001b[39mencoding, newline\u001b[38;5;241m=\u001b[39mnewline)\n\u001b[1;32m    531\u001b[0m \u001b[38;5;28;01melse\u001b[39;00m:\n\u001b[0;32m--> 532\u001b[0m     \u001b[38;5;28;01mraise\u001b[39;00m \u001b[38;5;167;01mFileNotFoundError\u001b[39;00m(\u001b[38;5;124mf\u001b[39m\u001b[38;5;124m\"\u001b[39m\u001b[38;5;132;01m{\u001b[39;00mpath\u001b[38;5;132;01m}\u001b[39;00m\u001b[38;5;124m not found.\u001b[39m\u001b[38;5;124m\"\u001b[39m)\n",
            "\u001b[0;31mFileNotFoundError\u001b[0m: SpamData/02_Training/train-data.txt not found."
          ],
          "output_type": "error"
        }
      ]
    },
    {
      "cell_type": "code",
      "source": "sparse_train_data.shape",
      "metadata": {
        "trusted": true
      },
      "execution_count": 4,
      "outputs": [
        {
          "ename": "<class 'NameError'>",
          "evalue": "name 'sparse_train_data' is not defined",
          "traceback": [
            "\u001b[0;31m---------------------------------------------------------------------------\u001b[0m",
            "\u001b[0;31mNameError\u001b[0m                                 Traceback (most recent call last)",
            "Cell \u001b[0;32mIn [4], line 1\u001b[0m\n\u001b[0;32m----> 1\u001b[0m \u001b[43msparse_train_data\u001b[49m\u001b[38;5;241m.\u001b[39mshape\n",
            "\u001b[0;31mNameError\u001b[0m: name 'sparse_train_data' is not defined"
          ],
          "output_type": "error"
        }
      ]
    },
    {
      "cell_type": "code",
      "source": "sparse_test_data.shape",
      "metadata": {
        "trusted": true
      },
      "execution_count": 5,
      "outputs": [
        {
          "ename": "<class 'NameError'>",
          "evalue": "name 'sparse_test_data' is not defined",
          "traceback": [
            "\u001b[0;31m---------------------------------------------------------------------------\u001b[0m",
            "\u001b[0;31mNameError\u001b[0m                                 Traceback (most recent call last)",
            "Cell \u001b[0;32mIn [5], line 1\u001b[0m\n\u001b[0;32m----> 1\u001b[0m \u001b[43msparse_test_data\u001b[49m\u001b[38;5;241m.\u001b[39mshape\n",
            "\u001b[0;31mNameError\u001b[0m: name 'sparse_test_data' is not defined"
          ],
          "output_type": "error"
        }
      ]
    },
    {
      "cell_type": "code",
      "source": "sparse_train_data[:5] # columns =  doc_id, word_id, category, occurence",
      "metadata": {
        "trusted": true
      },
      "execution_count": 6,
      "outputs": [
        {
          "ename": "<class 'NameError'>",
          "evalue": "name 'sparse_train_data' is not defined",
          "traceback": [
            "\u001b[0;31m---------------------------------------------------------------------------\u001b[0m",
            "\u001b[0;31mNameError\u001b[0m                                 Traceback (most recent call last)",
            "Cell \u001b[0;32mIn [6], line 1\u001b[0m\n\u001b[0;32m----> 1\u001b[0m \u001b[43msparse_train_data\u001b[49m[:\u001b[38;5;241m5\u001b[39m] \u001b[38;5;66;03m# columns =  doc_id, word_id, category, occurence\u001b[39;00m\n",
            "\u001b[0;31mNameError\u001b[0m: name 'sparse_train_data' is not defined"
          ],
          "output_type": "error"
        }
      ]
    },
    {
      "cell_type": "code",
      "source": "print(f'Number of rows in training file : {sparse_train_data.shape[0]}')\nprint(f'Number of rows in testing file : {sparse_test_data.shape[0]}')",
      "metadata": {
        "trusted": true
      },
      "execution_count": 7,
      "outputs": [
        {
          "ename": "<class 'NameError'>",
          "evalue": "name 'sparse_train_data' is not defined",
          "traceback": [
            "\u001b[0;31m---------------------------------------------------------------------------\u001b[0m",
            "\u001b[0;31mNameError\u001b[0m                                 Traceback (most recent call last)",
            "Cell \u001b[0;32mIn [7], line 1\u001b[0m\n\u001b[0;32m----> 1\u001b[0m \u001b[38;5;28mprint\u001b[39m(\u001b[38;5;124mf\u001b[39m\u001b[38;5;124m'\u001b[39m\u001b[38;5;124mNumber of rows in training file : \u001b[39m\u001b[38;5;132;01m{\u001b[39;00m\u001b[43msparse_train_data\u001b[49m\u001b[38;5;241m.\u001b[39mshape[\u001b[38;5;241m0\u001b[39m]\u001b[38;5;132;01m}\u001b[39;00m\u001b[38;5;124m'\u001b[39m)\n\u001b[1;32m      2\u001b[0m \u001b[38;5;28mprint\u001b[39m(\u001b[38;5;124mf\u001b[39m\u001b[38;5;124m'\u001b[39m\u001b[38;5;124mNumber of rows in testing file : \u001b[39m\u001b[38;5;132;01m{\u001b[39;00msparse_test_data\u001b[38;5;241m.\u001b[39mshape[\u001b[38;5;241m0\u001b[39m]\u001b[38;5;132;01m}\u001b[39;00m\u001b[38;5;124m'\u001b[39m)\n",
            "\u001b[0;31mNameError\u001b[0m: name 'sparse_train_data' is not defined"
          ],
          "output_type": "error"
        }
      ]
    },
    {
      "cell_type": "code",
      "source": "print(f' Number of emails in training file : {np.unique(sparse_train_data[: , 0]).size}')\nprint(f' Number of emails in testing file : {np.unique(sparse_test_data[: , 0]).size}')",
      "metadata": {
        "trusted": true
      },
      "execution_count": 8,
      "outputs": [
        {
          "ename": "<class 'NameError'>",
          "evalue": "name 'sparse_train_data' is not defined",
          "traceback": [
            "\u001b[0;31m---------------------------------------------------------------------------\u001b[0m",
            "\u001b[0;31mNameError\u001b[0m                                 Traceback (most recent call last)",
            "Cell \u001b[0;32mIn [8], line 1\u001b[0m\n\u001b[0;32m----> 1\u001b[0m \u001b[38;5;28mprint\u001b[39m(\u001b[38;5;124mf\u001b[39m\u001b[38;5;124m'\u001b[39m\u001b[38;5;124m Number of emails in training file : \u001b[39m\u001b[38;5;132;01m{\u001b[39;00mnp\u001b[38;5;241m.\u001b[39munique(\u001b[43msparse_train_data\u001b[49m[: , \u001b[38;5;241m0\u001b[39m])\u001b[38;5;241m.\u001b[39msize\u001b[38;5;132;01m}\u001b[39;00m\u001b[38;5;124m'\u001b[39m)\n\u001b[1;32m      2\u001b[0m \u001b[38;5;28mprint\u001b[39m(\u001b[38;5;124mf\u001b[39m\u001b[38;5;124m'\u001b[39m\u001b[38;5;124m Number of emails in testing file : \u001b[39m\u001b[38;5;132;01m{\u001b[39;00mnp\u001b[38;5;241m.\u001b[39munique(sparse_test_data[: , \u001b[38;5;241m0\u001b[39m])\u001b[38;5;241m.\u001b[39msize\u001b[38;5;132;01m}\u001b[39;00m\u001b[38;5;124m'\u001b[39m)\n",
            "\u001b[0;31mNameError\u001b[0m: name 'sparse_train_data' is not defined"
          ],
          "output_type": "error"
        }
      ]
    },
    {
      "cell_type": "markdown",
      "source": "## Creating empty dataframe",
      "metadata": {}
    },
    {
      "cell_type": "code",
      "source": "column_names = ['DOC_ID'] + ['CATEGORY'] + list(range(0 , VOCABULARY_SIZE))",
      "metadata": {
        "trusted": true
      },
      "execution_count": 9,
      "outputs": []
    },
    {
      "cell_type": "code",
      "source": "column_names[:5]",
      "metadata": {
        "trusted": true
      },
      "execution_count": 10,
      "outputs": [
        {
          "execution_count": 10,
          "output_type": "execute_result",
          "data": {
            "text/plain": "['DOC_ID', 'CATEGORY', 0, 1, 2]"
          },
          "metadata": {}
        }
      ]
    },
    {
      "cell_type": "code",
      "source": "len(column_names)",
      "metadata": {
        "trusted": true
      },
      "execution_count": 11,
      "outputs": [
        {
          "execution_count": 11,
          "output_type": "execute_result",
          "data": {
            "text/plain": "2502"
          },
          "metadata": {}
        }
      ]
    },
    {
      "cell_type": "code",
      "source": "index_names = np.unique(sparse_train_data[:,0])\nindex_names",
      "metadata": {
        "trusted": true
      },
      "execution_count": 12,
      "outputs": [
        {
          "ename": "<class 'NameError'>",
          "evalue": "name 'sparse_train_data' is not defined",
          "traceback": [
            "\u001b[0;31m---------------------------------------------------------------------------\u001b[0m",
            "\u001b[0;31mNameError\u001b[0m                                 Traceback (most recent call last)",
            "Cell \u001b[0;32mIn [12], line 1\u001b[0m\n\u001b[0;32m----> 1\u001b[0m index_names \u001b[38;5;241m=\u001b[39m np\u001b[38;5;241m.\u001b[39munique(\u001b[43msparse_train_data\u001b[49m[:,\u001b[38;5;241m0\u001b[39m])\n\u001b[1;32m      2\u001b[0m index_names\n",
            "\u001b[0;31mNameError\u001b[0m: name 'sparse_train_data' is not defined"
          ],
          "output_type": "error"
        }
      ]
    },
    {
      "cell_type": "code",
      "source": "full_train_data = pd.DataFrame(index=index_names, columns=column_names)\nfull_train_data.head()",
      "metadata": {
        "trusted": true
      },
      "execution_count": 13,
      "outputs": [
        {
          "ename": "<class 'NameError'>",
          "evalue": "name 'index_names' is not defined",
          "traceback": [
            "\u001b[0;31m---------------------------------------------------------------------------\u001b[0m",
            "\u001b[0;31mNameError\u001b[0m                                 Traceback (most recent call last)",
            "Cell \u001b[0;32mIn [13], line 1\u001b[0m\n\u001b[0;32m----> 1\u001b[0m full_train_data \u001b[38;5;241m=\u001b[39m pd\u001b[38;5;241m.\u001b[39mDataFrame(index\u001b[38;5;241m=\u001b[39m\u001b[43mindex_names\u001b[49m, columns\u001b[38;5;241m=\u001b[39mcolumn_names)\n\u001b[1;32m      2\u001b[0m full_train_data\u001b[38;5;241m.\u001b[39mhead()\n",
            "\u001b[0;31mNameError\u001b[0m: name 'index_names' is not defined"
          ],
          "output_type": "error"
        }
      ]
    },
    {
      "cell_type": "code",
      "source": "full_train_data.fillna(value=0,inplace=True)",
      "metadata": {
        "trusted": true
      },
      "execution_count": 14,
      "outputs": [
        {
          "ename": "<class 'NameError'>",
          "evalue": "name 'full_train_data' is not defined",
          "traceback": [
            "\u001b[0;31m---------------------------------------------------------------------------\u001b[0m",
            "\u001b[0;31mNameError\u001b[0m                                 Traceback (most recent call last)",
            "Cell \u001b[0;32mIn [14], line 1\u001b[0m\n\u001b[0;32m----> 1\u001b[0m \u001b[43mfull_train_data\u001b[49m\u001b[38;5;241m.\u001b[39mfillna(value\u001b[38;5;241m=\u001b[39m\u001b[38;5;241m0\u001b[39m,inplace\u001b[38;5;241m=\u001b[39m\u001b[38;5;28;01mTrue\u001b[39;00m)\n",
            "\u001b[0;31mNameError\u001b[0m: name 'full_train_data' is not defined"
          ],
          "output_type": "error"
        }
      ]
    },
    {
      "cell_type": "markdown",
      "source": "## Creating Full Matrix from sparse matrix",
      "metadata": {}
    },
    {
      "cell_type": "code",
      "source": "def make_full_matrix(sparse_matrix, nr_words, doc_idx=0,word_idx=1,cat_idx=2,freq_idx=3):\n    '''\n    returns full matrix which contains occurences of each word in vocab in single row \n    sparse_matrix -- input matrix (np array)\n    nr_words -- size of vocabulary(2500)\n    doc_idx -- DOC_ID index in sparse matrix(0)\n    word_idx -- 'WORD_ID' index in sparse_matrix(1)\n    cat_idx -- 'CATEGORY' index (2)\n    freq_idx -- 'OCCURENCES' index (3)\n    '''\n    \n    column_names = ['DOC_ID'] + ['CATEGORY'] + list(range(0 , VOCABULARY_SIZE))\n    doc_id_names = np.unique(sparse_matrix[:,0])\n    full_matrix = pd.DataFrame(index=doc_id_names,columns=column_names)\n    full_matrix.fillna(value=0,inplace=True)\n    \n    for i in range(sparse_matrix.shape[0]):  # iterating through all rows in sparse matrix and extracting word occurences\n        doc_nr = sparse_matrix[i][doc_idx] # doc_idx = 0 first column\n        word_id = sparse_matrix[i][word_idx]\n        label = sparse_matrix[i][cat_idx]\n        occurence = sparse_matrix[i][freq_idx]\n        \n        full_matrix.at[doc_nr,'DOC_ID'] = doc_nr\n        full_matrix.at[doc_nr,'CATEGORY'] = label\n        full_matrix.at[doc_nr,word_id] = occurence\n        \n    full_matrix.set_index('DOC_ID',inplace=True)  \n    return full_matrix",
      "metadata": {
        "trusted": true
      },
      "execution_count": 15,
      "outputs": []
    },
    {
      "cell_type": "code",
      "source": "%%time\nfull_train_data = make_full_matrix(sparse_train_data,VOCABULARY_SIZE)",
      "metadata": {
        "trusted": true
      },
      "execution_count": 16,
      "outputs": [
        {
          "ename": "<class 'NameError'>",
          "evalue": "name 'sparse_train_data' is not defined",
          "traceback": [
            "\u001b[0;31m---------------------------------------------------------------------------\u001b[0m",
            "\u001b[0;31mNameError\u001b[0m                                 Traceback (most recent call last)",
            "File \u001b[0;32m<timed exec>:1\u001b[0m\n",
            "\u001b[0;31mNameError\u001b[0m: name 'sparse_train_data' is not defined"
          ],
          "output_type": "error"
        }
      ]
    },
    {
      "cell_type": "code",
      "source": "full_train_data.head()  # most frequent words are at begining\n\n\n#DOC_ID : emails id of each email in dataset\n#CATEGORY : wether email is spam or not   1 : spam    0 : legit\n#columns 0 1 2 3 4 .......2499 indicates word_id of top 2500 words in vocabulary\n#each box inside table indicates number of occurance of word in particular email",
      "metadata": {
        "trusted": true
      },
      "execution_count": 17,
      "outputs": [
        {
          "ename": "<class 'NameError'>",
          "evalue": "name 'full_train_data' is not defined",
          "traceback": [
            "\u001b[0;31m---------------------------------------------------------------------------\u001b[0m",
            "\u001b[0;31mNameError\u001b[0m                                 Traceback (most recent call last)",
            "Cell \u001b[0;32mIn [17], line 1\u001b[0m\n\u001b[0;32m----> 1\u001b[0m \u001b[43mfull_train_data\u001b[49m\u001b[38;5;241m.\u001b[39mhead()  \u001b[38;5;66;03m# most frequent words are at begining\u001b[39;00m\n\u001b[1;32m      4\u001b[0m \u001b[38;5;66;03m#DOC_ID : emails id of each email in dataset\u001b[39;00m\n\u001b[1;32m      5\u001b[0m \u001b[38;5;66;03m#CATEGORY : wether email is spam or not   1 : spam    0 : legit\u001b[39;00m\n\u001b[1;32m      6\u001b[0m \u001b[38;5;66;03m#columns 0 1 2 3 4 .......2499 indicates word_id of top 2500 words in vocabulary\u001b[39;00m\n\u001b[1;32m      7\u001b[0m \u001b[38;5;66;03m#each box inside table indicates number of occurance of word in particular email\u001b[39;00m\n",
            "\u001b[0;31mNameError\u001b[0m: name 'full_train_data' is not defined"
          ],
          "output_type": "error"
        }
      ]
    },
    {
      "cell_type": "markdown",
      "source": "## Training Naive Bayes Classifier",
      "metadata": {}
    },
    {
      "cell_type": "markdown",
      "source": "## calculating probability of spam ",
      "metadata": {}
    },
    {
      "cell_type": "code",
      "source": "spam_prob = full_train_data['CATEGORY'].sum() / full_train_data['CATEGORY'].size\nprint(' Probability of email being spam ' ,round(spam_prob,3))",
      "metadata": {
        "trusted": true
      },
      "execution_count": 18,
      "outputs": [
        {
          "ename": "<class 'NameError'>",
          "evalue": "name 'full_train_data' is not defined",
          "traceback": [
            "\u001b[0;31m---------------------------------------------------------------------------\u001b[0m",
            "\u001b[0;31mNameError\u001b[0m                                 Traceback (most recent call last)",
            "Cell \u001b[0;32mIn [18], line 1\u001b[0m\n\u001b[0;32m----> 1\u001b[0m spam_prob \u001b[38;5;241m=\u001b[39m \u001b[43mfull_train_data\u001b[49m[\u001b[38;5;124m'\u001b[39m\u001b[38;5;124mCATEGORY\u001b[39m\u001b[38;5;124m'\u001b[39m]\u001b[38;5;241m.\u001b[39msum() \u001b[38;5;241m/\u001b[39m full_train_data[\u001b[38;5;124m'\u001b[39m\u001b[38;5;124mCATEGORY\u001b[39m\u001b[38;5;124m'\u001b[39m]\u001b[38;5;241m.\u001b[39msize\n\u001b[1;32m      2\u001b[0m \u001b[38;5;28mprint\u001b[39m(\u001b[38;5;124m'\u001b[39m\u001b[38;5;124m Probability of email being spam \u001b[39m\u001b[38;5;124m'\u001b[39m ,\u001b[38;5;28mround\u001b[39m(spam_prob,\u001b[38;5;241m3\u001b[39m))\n",
            "\u001b[0;31mNameError\u001b[0m: name 'full_train_data' is not defined"
          ],
          "output_type": "error"
        }
      ]
    },
    {
      "cell_type": "code",
      "source": "full_train_features = full_train_data.loc[:,full_train_data.columns != 'CATEGORY']\nfull_train_features.head()  #excluding category",
      "metadata": {
        "trusted": true
      },
      "execution_count": 19,
      "outputs": [
        {
          "ename": "<class 'NameError'>",
          "evalue": "name 'full_train_data' is not defined",
          "traceback": [
            "\u001b[0;31m---------------------------------------------------------------------------\u001b[0m",
            "\u001b[0;31mNameError\u001b[0m                                 Traceback (most recent call last)",
            "Cell \u001b[0;32mIn [19], line 1\u001b[0m\n\u001b[0;32m----> 1\u001b[0m full_train_features \u001b[38;5;241m=\u001b[39m \u001b[43mfull_train_data\u001b[49m\u001b[38;5;241m.\u001b[39mloc[:,full_train_data\u001b[38;5;241m.\u001b[39mcolumns \u001b[38;5;241m!=\u001b[39m \u001b[38;5;124m'\u001b[39m\u001b[38;5;124mCATEGORY\u001b[39m\u001b[38;5;124m'\u001b[39m]\n\u001b[1;32m      2\u001b[0m full_train_features\u001b[38;5;241m.\u001b[39mhead()  \u001b[38;5;66;03m#excluding category\u001b[39;00m\n",
            "\u001b[0;31mNameError\u001b[0m: name 'full_train_data' is not defined"
          ],
          "output_type": "error"
        }
      ]
    },
    {
      "cell_type": "code",
      "source": "email_lengths = full_train_features.sum(axis=1)\nemail_lengths.shape",
      "metadata": {
        "trusted": true
      },
      "execution_count": 20,
      "outputs": [
        {
          "ename": "<class 'NameError'>",
          "evalue": "name 'full_train_features' is not defined",
          "traceback": [
            "\u001b[0;31m---------------------------------------------------------------------------\u001b[0m",
            "\u001b[0;31mNameError\u001b[0m                                 Traceback (most recent call last)",
            "Cell \u001b[0;32mIn [20], line 1\u001b[0m\n\u001b[0;32m----> 1\u001b[0m email_lengths \u001b[38;5;241m=\u001b[39m \u001b[43mfull_train_features\u001b[49m\u001b[38;5;241m.\u001b[39msum(axis\u001b[38;5;241m=\u001b[39m\u001b[38;5;241m1\u001b[39m)\n\u001b[1;32m      2\u001b[0m email_lengths\u001b[38;5;241m.\u001b[39mshape\n",
            "\u001b[0;31mNameError\u001b[0m: name 'full_train_features' is not defined"
          ],
          "output_type": "error"
        }
      ]
    },
    {
      "cell_type": "code",
      "source": "total_wordcounts = email_lengths.sum()\ntotal_wordcounts",
      "metadata": {
        "trusted": true
      },
      "execution_count": 21,
      "outputs": [
        {
          "ename": "<class 'NameError'>",
          "evalue": "name 'email_lengths' is not defined",
          "traceback": [
            "\u001b[0;31m---------------------------------------------------------------------------\u001b[0m",
            "\u001b[0;31mNameError\u001b[0m                                 Traceback (most recent call last)",
            "Cell \u001b[0;32mIn [21], line 1\u001b[0m\n\u001b[0;32m----> 1\u001b[0m total_wordcounts \u001b[38;5;241m=\u001b[39m \u001b[43memail_lengths\u001b[49m\u001b[38;5;241m.\u001b[39msum()\n\u001b[1;32m      2\u001b[0m total_wordcounts\n",
            "\u001b[0;31mNameError\u001b[0m: name 'email_lengths' is not defined"
          ],
          "output_type": "error"
        }
      ]
    },
    {
      "cell_type": "code",
      "source": "spam_lengths = email_lengths[full_train_data.CATEGORY == 1]\nspam_lengths.shape",
      "metadata": {
        "trusted": true
      },
      "execution_count": 22,
      "outputs": [
        {
          "ename": "<class 'NameError'>",
          "evalue": "name 'email_lengths' is not defined",
          "traceback": [
            "\u001b[0;31m---------------------------------------------------------------------------\u001b[0m",
            "\u001b[0;31mNameError\u001b[0m                                 Traceback (most recent call last)",
            "Cell \u001b[0;32mIn [22], line 1\u001b[0m\n\u001b[0;32m----> 1\u001b[0m spam_lengths \u001b[38;5;241m=\u001b[39m \u001b[43memail_lengths\u001b[49m[full_train_data\u001b[38;5;241m.\u001b[39mCATEGORY \u001b[38;5;241m==\u001b[39m \u001b[38;5;241m1\u001b[39m]\n\u001b[1;32m      2\u001b[0m spam_lengths\u001b[38;5;241m.\u001b[39mshape\n",
            "\u001b[0;31mNameError\u001b[0m: name 'email_lengths' is not defined"
          ],
          "output_type": "error"
        }
      ]
    },
    {
      "cell_type": "code",
      "source": "spam_wordcount = spam_lengths.sum()\nspam_wordcount",
      "metadata": {
        "trusted": true
      },
      "execution_count": 23,
      "outputs": [
        {
          "ename": "<class 'NameError'>",
          "evalue": "name 'spam_lengths' is not defined",
          "traceback": [
            "\u001b[0;31m---------------------------------------------------------------------------\u001b[0m",
            "\u001b[0;31mNameError\u001b[0m                                 Traceback (most recent call last)",
            "Cell \u001b[0;32mIn [23], line 1\u001b[0m\n\u001b[0;32m----> 1\u001b[0m spam_wordcount \u001b[38;5;241m=\u001b[39m \u001b[43mspam_lengths\u001b[49m\u001b[38;5;241m.\u001b[39msum()\n\u001b[1;32m      2\u001b[0m spam_wordcount\n",
            "\u001b[0;31mNameError\u001b[0m: name 'spam_lengths' is not defined"
          ],
          "output_type": "error"
        }
      ]
    },
    {
      "cell_type": "code",
      "source": "ham_lengths = email_lengths[full_train_data.CATEGORY == 0]\nham_lengths.shape",
      "metadata": {
        "trusted": true
      },
      "execution_count": 24,
      "outputs": [
        {
          "ename": "<class 'NameError'>",
          "evalue": "name 'email_lengths' is not defined",
          "traceback": [
            "\u001b[0;31m---------------------------------------------------------------------------\u001b[0m",
            "\u001b[0;31mNameError\u001b[0m                                 Traceback (most recent call last)",
            "Cell \u001b[0;32mIn [24], line 1\u001b[0m\n\u001b[0;32m----> 1\u001b[0m ham_lengths \u001b[38;5;241m=\u001b[39m \u001b[43memail_lengths\u001b[49m[full_train_data\u001b[38;5;241m.\u001b[39mCATEGORY \u001b[38;5;241m==\u001b[39m \u001b[38;5;241m0\u001b[39m]\n\u001b[1;32m      2\u001b[0m ham_lengths\u001b[38;5;241m.\u001b[39mshape\n",
            "\u001b[0;31mNameError\u001b[0m: name 'email_lengths' is not defined"
          ],
          "output_type": "error"
        }
      ]
    },
    {
      "cell_type": "code",
      "source": "ham_wordcount = ham_lengths.sum()\nham_wordcount",
      "metadata": {
        "trusted": true
      },
      "execution_count": 25,
      "outputs": [
        {
          "ename": "<class 'NameError'>",
          "evalue": "name 'ham_lengths' is not defined",
          "traceback": [
            "\u001b[0;31m---------------------------------------------------------------------------\u001b[0m",
            "\u001b[0;31mNameError\u001b[0m                                 Traceback (most recent call last)",
            "Cell \u001b[0;32mIn [25], line 1\u001b[0m\n\u001b[0;32m----> 1\u001b[0m ham_wordcount \u001b[38;5;241m=\u001b[39m \u001b[43mham_lengths\u001b[49m\u001b[38;5;241m.\u001b[39msum()\n\u001b[1;32m      2\u001b[0m ham_wordcount\n",
            "\u001b[0;31mNameError\u001b[0m: name 'ham_lengths' is not defined"
          ],
          "output_type": "error"
        }
      ]
    },
    {
      "cell_type": "code",
      "source": "print(f'Avg number of words in spam emails : {spam_wordcount / spam_lengths.shape[0]}')\nprint(f'Avg number of words in ham emails : {ham_wordcount / ham_lengths.shape[0]}')",
      "metadata": {
        "trusted": true
      },
      "execution_count": 26,
      "outputs": [
        {
          "ename": "<class 'NameError'>",
          "evalue": "name 'spam_wordcount' is not defined",
          "traceback": [
            "\u001b[0;31m---------------------------------------------------------------------------\u001b[0m",
            "\u001b[0;31mNameError\u001b[0m                                 Traceback (most recent call last)",
            "Cell \u001b[0;32mIn [26], line 1\u001b[0m\n\u001b[0;32m----> 1\u001b[0m \u001b[38;5;28mprint\u001b[39m(\u001b[38;5;124mf\u001b[39m\u001b[38;5;124m'\u001b[39m\u001b[38;5;124mAvg number of words in spam emails : \u001b[39m\u001b[38;5;132;01m{\u001b[39;00m\u001b[43mspam_wordcount\u001b[49m \u001b[38;5;241m/\u001b[39m spam_lengths\u001b[38;5;241m.\u001b[39mshape[\u001b[38;5;241m0\u001b[39m]\u001b[38;5;132;01m}\u001b[39;00m\u001b[38;5;124m'\u001b[39m)\n\u001b[1;32m      2\u001b[0m \u001b[38;5;28mprint\u001b[39m(\u001b[38;5;124mf\u001b[39m\u001b[38;5;124m'\u001b[39m\u001b[38;5;124mAvg number of words in ham emails : \u001b[39m\u001b[38;5;132;01m{\u001b[39;00mham_wordcount \u001b[38;5;241m/\u001b[39m ham_lengths\u001b[38;5;241m.\u001b[39mshape[\u001b[38;5;241m0\u001b[39m]\u001b[38;5;132;01m}\u001b[39;00m\u001b[38;5;124m'\u001b[39m)\n",
            "\u001b[0;31mNameError\u001b[0m: name 'spam_wordcount' is not defined"
          ],
          "output_type": "error"
        }
      ]
    },
    {
      "cell_type": "markdown",
      "source": "## Summing the Tokens Occuring in spam",
      "metadata": {}
    },
    {
      "cell_type": "code",
      "source": "full_train_features.shape",
      "metadata": {
        "trusted": true
      },
      "execution_count": 27,
      "outputs": [
        {
          "ename": "<class 'NameError'>",
          "evalue": "name 'full_train_features' is not defined",
          "traceback": [
            "\u001b[0;31m---------------------------------------------------------------------------\u001b[0m",
            "\u001b[0;31mNameError\u001b[0m                                 Traceback (most recent call last)",
            "Cell \u001b[0;32mIn [27], line 1\u001b[0m\n\u001b[0;32m----> 1\u001b[0m \u001b[43mfull_train_features\u001b[49m\u001b[38;5;241m.\u001b[39mshape\n",
            "\u001b[0;31mNameError\u001b[0m: name 'full_train_features' is not defined"
          ],
          "output_type": "error"
        }
      ]
    },
    {
      "cell_type": "code",
      "source": "train_spam_tokens = full_train_features.loc[full_train_data.CATEGORY == 1]\ntrain_spam_tokens.head()",
      "metadata": {
        "trusted": true
      },
      "execution_count": 28,
      "outputs": [
        {
          "ename": "<class 'NameError'>",
          "evalue": "name 'full_train_features' is not defined",
          "traceback": [
            "\u001b[0;31m---------------------------------------------------------------------------\u001b[0m",
            "\u001b[0;31mNameError\u001b[0m                                 Traceback (most recent call last)",
            "Cell \u001b[0;32mIn [28], line 1\u001b[0m\n\u001b[0;32m----> 1\u001b[0m train_spam_tokens \u001b[38;5;241m=\u001b[39m \u001b[43mfull_train_features\u001b[49m\u001b[38;5;241m.\u001b[39mloc[full_train_data\u001b[38;5;241m.\u001b[39mCATEGORY \u001b[38;5;241m==\u001b[39m \u001b[38;5;241m1\u001b[39m]\n\u001b[1;32m      2\u001b[0m train_spam_tokens\u001b[38;5;241m.\u001b[39mhead()\n",
            "\u001b[0;31mNameError\u001b[0m: name 'full_train_features' is not defined"
          ],
          "output_type": "error"
        }
      ]
    },
    {
      "cell_type": "code",
      "source": "# Calculating number of time each word appeared in all spam emails\n\nsummed_spam_tokens = train_spam_tokens.sum(axis=0) + 1 # +1 to avoid zero by error while calculating probability\nsummed_spam_tokens.shape    # axis = 0 to sum columns",
      "metadata": {
        "trusted": true
      },
      "execution_count": 29,
      "outputs": [
        {
          "ename": "<class 'NameError'>",
          "evalue": "name 'train_spam_tokens' is not defined",
          "traceback": [
            "\u001b[0;31m---------------------------------------------------------------------------\u001b[0m",
            "\u001b[0;31mNameError\u001b[0m                                 Traceback (most recent call last)",
            "Cell \u001b[0;32mIn [29], line 3\u001b[0m\n\u001b[1;32m      1\u001b[0m \u001b[38;5;66;03m# Calculating number of time each word appeared in all spam emails\u001b[39;00m\n\u001b[0;32m----> 3\u001b[0m summed_spam_tokens \u001b[38;5;241m=\u001b[39m \u001b[43mtrain_spam_tokens\u001b[49m\u001b[38;5;241m.\u001b[39msum(axis\u001b[38;5;241m=\u001b[39m\u001b[38;5;241m0\u001b[39m) \u001b[38;5;241m+\u001b[39m \u001b[38;5;241m1\u001b[39m \u001b[38;5;66;03m# +1 to avoid zero by error while calculating probability\u001b[39;00m\n\u001b[1;32m      4\u001b[0m summed_spam_tokens\u001b[38;5;241m.\u001b[39mshape    \u001b[38;5;66;03m# axis = 0 to sum columns\u001b[39;00m\n",
            "\u001b[0;31mNameError\u001b[0m: name 'train_spam_tokens' is not defined"
          ],
          "output_type": "error"
        }
      ]
    },
    {
      "cell_type": "code",
      "source": "summed_spam_tokens.head()",
      "metadata": {
        "trusted": true
      },
      "execution_count": 30,
      "outputs": [
        {
          "ename": "<class 'NameError'>",
          "evalue": "name 'summed_spam_tokens' is not defined",
          "traceback": [
            "\u001b[0;31m---------------------------------------------------------------------------\u001b[0m",
            "\u001b[0;31mNameError\u001b[0m                                 Traceback (most recent call last)",
            "Cell \u001b[0;32mIn [30], line 1\u001b[0m\n\u001b[0;32m----> 1\u001b[0m \u001b[43msummed_spam_tokens\u001b[49m\u001b[38;5;241m.\u001b[39mhead()\n",
            "\u001b[0;31mNameError\u001b[0m: name 'summed_spam_tokens' is not defined"
          ],
          "output_type": "error"
        }
      ]
    },
    {
      "cell_type": "markdown",
      "source": "## Summing tokens occuring in ham emails",
      "metadata": {}
    },
    {
      "cell_type": "code",
      "source": "train_ham_tokens = full_train_features.loc[full_train_data.CATEGORY == 0]\ntrain_ham_tokens.head()",
      "metadata": {
        "trusted": true
      },
      "execution_count": 31,
      "outputs": [
        {
          "ename": "<class 'NameError'>",
          "evalue": "name 'full_train_features' is not defined",
          "traceback": [
            "\u001b[0;31m---------------------------------------------------------------------------\u001b[0m",
            "\u001b[0;31mNameError\u001b[0m                                 Traceback (most recent call last)",
            "Cell \u001b[0;32mIn [31], line 1\u001b[0m\n\u001b[0;32m----> 1\u001b[0m train_ham_tokens \u001b[38;5;241m=\u001b[39m \u001b[43mfull_train_features\u001b[49m\u001b[38;5;241m.\u001b[39mloc[full_train_data\u001b[38;5;241m.\u001b[39mCATEGORY \u001b[38;5;241m==\u001b[39m \u001b[38;5;241m0\u001b[39m]\n\u001b[1;32m      2\u001b[0m train_ham_tokens\u001b[38;5;241m.\u001b[39mhead()\n",
            "\u001b[0;31mNameError\u001b[0m: name 'full_train_features' is not defined"
          ],
          "output_type": "error"
        }
      ]
    },
    {
      "cell_type": "code",
      "source": "# Calculating number of time each word appeared in all ham emails\n\nsummed_ham_tokens = train_ham_tokens.sum(axis=0) + 1 # +1 to avoid zero by error while calculating probability\nsummed_ham_tokens.shape    # axis = 0 to sum columns",
      "metadata": {
        "trusted": true
      },
      "execution_count": 32,
      "outputs": [
        {
          "ename": "<class 'NameError'>",
          "evalue": "name 'train_ham_tokens' is not defined",
          "traceback": [
            "\u001b[0;31m---------------------------------------------------------------------------\u001b[0m",
            "\u001b[0;31mNameError\u001b[0m                                 Traceback (most recent call last)",
            "Cell \u001b[0;32mIn [32], line 3\u001b[0m\n\u001b[1;32m      1\u001b[0m \u001b[38;5;66;03m# Calculating number of time each word appeared in all ham emails\u001b[39;00m\n\u001b[0;32m----> 3\u001b[0m summed_ham_tokens \u001b[38;5;241m=\u001b[39m \u001b[43mtrain_ham_tokens\u001b[49m\u001b[38;5;241m.\u001b[39msum(axis\u001b[38;5;241m=\u001b[39m\u001b[38;5;241m0\u001b[39m) \u001b[38;5;241m+\u001b[39m \u001b[38;5;241m1\u001b[39m \u001b[38;5;66;03m# +1 to avoid zero by error while calculating probability\u001b[39;00m\n\u001b[1;32m      4\u001b[0m summed_ham_tokens\u001b[38;5;241m.\u001b[39mshape    \u001b[38;5;66;03m# axis = 0 to sum columns\u001b[39;00m\n",
            "\u001b[0;31mNameError\u001b[0m: name 'train_ham_tokens' is not defined"
          ],
          "output_type": "error"
        }
      ]
    },
    {
      "cell_type": "markdown",
      "source": "## p( token | spam ) : Probabilty that token ocuurs given email is spam",
      "metadata": {}
    },
    {
      "cell_type": "code",
      "source": "prob_tokens_spam = summed_spam_tokens / (spam_wordcount + VOCABULARY_SIZE)  #devide by VOCABULARY_SIZE coz we added 1 to \n                                                                                    #summed_spam tokens",
      "metadata": {
        "trusted": true
      },
      "execution_count": 33,
      "outputs": [
        {
          "ename": "<class 'NameError'>",
          "evalue": "name 'summed_spam_tokens' is not defined",
          "traceback": [
            "\u001b[0;31m---------------------------------------------------------------------------\u001b[0m",
            "\u001b[0;31mNameError\u001b[0m                                 Traceback (most recent call last)",
            "Cell \u001b[0;32mIn [33], line 1\u001b[0m\n\u001b[0;32m----> 1\u001b[0m prob_tokens_spam \u001b[38;5;241m=\u001b[39m \u001b[43msummed_spam_tokens\u001b[49m \u001b[38;5;241m/\u001b[39m (spam_wordcount \u001b[38;5;241m+\u001b[39m VOCABULARY_SIZE)  \u001b[38;5;66;03m#devide by VOCABULARY_SIZE coz we added 1 to \u001b[39;00m\n\u001b[1;32m      2\u001b[0m                                                                                     \u001b[38;5;66;03m#summed_spam tokens\u001b[39;00m\n",
            "\u001b[0;31mNameError\u001b[0m: name 'summed_spam_tokens' is not defined"
          ],
          "output_type": "error"
        }
      ]
    },
    {
      "cell_type": "code",
      "source": "prob_tokens_spam[:5]",
      "metadata": {
        "trusted": true
      },
      "execution_count": 34,
      "outputs": [
        {
          "ename": "<class 'NameError'>",
          "evalue": "name 'prob_tokens_spam' is not defined",
          "traceback": [
            "\u001b[0;31m---------------------------------------------------------------------------\u001b[0m",
            "\u001b[0;31mNameError\u001b[0m                                 Traceback (most recent call last)",
            "Cell \u001b[0;32mIn [34], line 1\u001b[0m\n\u001b[0;32m----> 1\u001b[0m \u001b[43mprob_tokens_spam\u001b[49m[:\u001b[38;5;241m5\u001b[39m]\n",
            "\u001b[0;31mNameError\u001b[0m: name 'prob_tokens_spam' is not defined"
          ],
          "output_type": "error"
        }
      ]
    },
    {
      "cell_type": "code",
      "source": "prob_tokens_spam.sum()",
      "metadata": {
        "trusted": true
      },
      "execution_count": 35,
      "outputs": [
        {
          "ename": "<class 'NameError'>",
          "evalue": "name 'prob_tokens_spam' is not defined",
          "traceback": [
            "\u001b[0;31m---------------------------------------------------------------------------\u001b[0m",
            "\u001b[0;31mNameError\u001b[0m                                 Traceback (most recent call last)",
            "Cell \u001b[0;32mIn [35], line 1\u001b[0m\n\u001b[0;32m----> 1\u001b[0m \u001b[43mprob_tokens_spam\u001b[49m\u001b[38;5;241m.\u001b[39msum()\n",
            "\u001b[0;31mNameError\u001b[0m: name 'prob_tokens_spam' is not defined"
          ],
          "output_type": "error"
        }
      ]
    },
    {
      "cell_type": "markdown",
      "source": "## p( token | nonspam ) : Probabilty that token ocuurs given email is non-spam",
      "metadata": {}
    },
    {
      "cell_type": "code",
      "source": "prob_tokens_ham = summed_ham_tokens / (ham_wordcount + VOCABULARY_SIZE)\nprob_tokens_ham.sum()",
      "metadata": {
        "trusted": true
      },
      "execution_count": 36,
      "outputs": [
        {
          "ename": "<class 'NameError'>",
          "evalue": "name 'summed_ham_tokens' is not defined",
          "traceback": [
            "\u001b[0;31m---------------------------------------------------------------------------\u001b[0m",
            "\u001b[0;31mNameError\u001b[0m                                 Traceback (most recent call last)",
            "Cell \u001b[0;32mIn [36], line 1\u001b[0m\n\u001b[0;32m----> 1\u001b[0m prob_tokens_ham \u001b[38;5;241m=\u001b[39m \u001b[43msummed_ham_tokens\u001b[49m \u001b[38;5;241m/\u001b[39m (ham_wordcount \u001b[38;5;241m+\u001b[39m VOCABULARY_SIZE)\n\u001b[1;32m      2\u001b[0m prob_tokens_ham\u001b[38;5;241m.\u001b[39msum()\n",
            "\u001b[0;31mNameError\u001b[0m: name 'summed_ham_tokens' is not defined"
          ],
          "output_type": "error"
        }
      ]
    },
    {
      "cell_type": "markdown",
      "source": "## p(token) : probability that token occurs",
      "metadata": {}
    },
    {
      "cell_type": "code",
      "source": "prob_token_all = full_train_features.sum(axis=0) / total_wordcounts\nprob_token_all",
      "metadata": {
        "trusted": true
      },
      "execution_count": 37,
      "outputs": [
        {
          "ename": "<class 'NameError'>",
          "evalue": "name 'full_train_features' is not defined",
          "traceback": [
            "\u001b[0;31m---------------------------------------------------------------------------\u001b[0m",
            "\u001b[0;31mNameError\u001b[0m                                 Traceback (most recent call last)",
            "Cell \u001b[0;32mIn [37], line 1\u001b[0m\n\u001b[0;32m----> 1\u001b[0m prob_token_all \u001b[38;5;241m=\u001b[39m \u001b[43mfull_train_features\u001b[49m\u001b[38;5;241m.\u001b[39msum(axis\u001b[38;5;241m=\u001b[39m\u001b[38;5;241m0\u001b[39m) \u001b[38;5;241m/\u001b[39m total_wordcounts\n\u001b[1;32m      2\u001b[0m prob_token_all\n",
            "\u001b[0;31mNameError\u001b[0m: name 'full_train_features' is not defined"
          ],
          "output_type": "error"
        }
      ]
    },
    {
      "cell_type": "markdown",
      "source": "## Saving trained model",
      "metadata": {}
    },
    {
      "cell_type": "code",
      "source": "np.savetxt(TOKEN_SPAM_PROB_FILE,prob_tokens_spam)\nnp.savetxt(TOKEN_HAM_PROB_FILE,prob_tokens_ham)\nnp.savetxt(TOKEN_ALL_PROB_FILE,prob_token_all)",
      "metadata": {
        "trusted": true
      },
      "execution_count": 38,
      "outputs": [
        {
          "ename": "<class 'NameError'>",
          "evalue": "name 'prob_tokens_spam' is not defined",
          "traceback": [
            "\u001b[0;31m---------------------------------------------------------------------------\u001b[0m",
            "\u001b[0;31mNameError\u001b[0m                                 Traceback (most recent call last)",
            "Cell \u001b[0;32mIn [38], line 1\u001b[0m\n\u001b[0;32m----> 1\u001b[0m np\u001b[38;5;241m.\u001b[39msavetxt(TOKEN_SPAM_PROB_FILE,\u001b[43mprob_tokens_spam\u001b[49m)\n\u001b[1;32m      2\u001b[0m np\u001b[38;5;241m.\u001b[39msavetxt(TOKEN_HAM_PROB_FILE,prob_tokens_ham)\n\u001b[1;32m      3\u001b[0m np\u001b[38;5;241m.\u001b[39msavetxt(TOKEN_ALL_PROB_FILE,prob_token_all)\n",
            "\u001b[0;31mNameError\u001b[0m: name 'prob_tokens_spam' is not defined"
          ],
          "output_type": "error"
        }
      ]
    },
    {
      "cell_type": "markdown",
      "source": "## Prepare test data",
      "metadata": {}
    },
    {
      "cell_type": "code",
      "source": "sparse_test_data.shape",
      "metadata": {
        "trusted": true
      },
      "execution_count": 39,
      "outputs": [
        {
          "ename": "<class 'NameError'>",
          "evalue": "name 'sparse_test_data' is not defined",
          "traceback": [
            "\u001b[0;31m---------------------------------------------------------------------------\u001b[0m",
            "\u001b[0;31mNameError\u001b[0m                                 Traceback (most recent call last)",
            "Cell \u001b[0;32mIn [39], line 1\u001b[0m\n\u001b[0;32m----> 1\u001b[0m \u001b[43msparse_test_data\u001b[49m\u001b[38;5;241m.\u001b[39mshape\n",
            "\u001b[0;31mNameError\u001b[0m: name 'sparse_test_data' is not defined"
          ],
          "output_type": "error"
        }
      ]
    },
    {
      "cell_type": "code",
      "source": "%%time\nfull_test_data = make_full_matrix(sparse_test_data,nr_words=VOCABULARY_SIZE)",
      "metadata": {
        "trusted": true
      },
      "execution_count": 40,
      "outputs": [
        {
          "ename": "<class 'NameError'>",
          "evalue": "name 'sparse_test_data' is not defined",
          "traceback": [
            "\u001b[0;31m---------------------------------------------------------------------------\u001b[0m",
            "\u001b[0;31mNameError\u001b[0m                                 Traceback (most recent call last)",
            "File \u001b[0;32m<timed exec>:1\u001b[0m\n",
            "\u001b[0;31mNameError\u001b[0m: name 'sparse_test_data' is not defined"
          ],
          "output_type": "error"
        }
      ]
    },
    {
      "cell_type": "code",
      "source": "X_test = full_test_data.loc[:, full_test_data.columns != 'CATEGORY']\ny_test = full_test_data.CATEGORY",
      "metadata": {
        "trusted": true
      },
      "execution_count": 41,
      "outputs": [
        {
          "ename": "<class 'NameError'>",
          "evalue": "name 'full_test_data' is not defined",
          "traceback": [
            "\u001b[0;31m---------------------------------------------------------------------------\u001b[0m",
            "\u001b[0;31mNameError\u001b[0m                                 Traceback (most recent call last)",
            "Cell \u001b[0;32mIn [41], line 1\u001b[0m\n\u001b[0;32m----> 1\u001b[0m X_test \u001b[38;5;241m=\u001b[39m \u001b[43mfull_test_data\u001b[49m\u001b[38;5;241m.\u001b[39mloc[:, full_test_data\u001b[38;5;241m.\u001b[39mcolumns \u001b[38;5;241m!=\u001b[39m \u001b[38;5;124m'\u001b[39m\u001b[38;5;124mCATEGORY\u001b[39m\u001b[38;5;124m'\u001b[39m]\n\u001b[1;32m      2\u001b[0m y_test \u001b[38;5;241m=\u001b[39m full_test_data\u001b[38;5;241m.\u001b[39mCATEGORY\n",
            "\u001b[0;31mNameError\u001b[0m: name 'full_test_data' is not defined"
          ],
          "output_type": "error"
        }
      ]
    },
    {
      "cell_type": "code",
      "source": "X_test.shape",
      "metadata": {
        "trusted": true
      },
      "execution_count": 42,
      "outputs": [
        {
          "ename": "<class 'NameError'>",
          "evalue": "name 'X_test' is not defined",
          "traceback": [
            "\u001b[0;31m---------------------------------------------------------------------------\u001b[0m",
            "\u001b[0;31mNameError\u001b[0m                                 Traceback (most recent call last)",
            "Cell \u001b[0;32mIn [42], line 1\u001b[0m\n\u001b[0;32m----> 1\u001b[0m \u001b[43mX_test\u001b[49m\u001b[38;5;241m.\u001b[39mshape\n",
            "\u001b[0;31mNameError\u001b[0m: name 'X_test' is not defined"
          ],
          "output_type": "error"
        }
      ]
    },
    {
      "cell_type": "code",
      "source": "np.savetxt(TEST_TARGET_FILE,y_test)\nnp.savetxt(TEST_FEATURE_MATRIX,X_test)",
      "metadata": {
        "trusted": true
      },
      "execution_count": 43,
      "outputs": [
        {
          "ename": "<class 'NameError'>",
          "evalue": "name 'y_test' is not defined",
          "traceback": [
            "\u001b[0;31m---------------------------------------------------------------------------\u001b[0m",
            "\u001b[0;31mNameError\u001b[0m                                 Traceback (most recent call last)",
            "Cell \u001b[0;32mIn [43], line 1\u001b[0m\n\u001b[0;32m----> 1\u001b[0m np\u001b[38;5;241m.\u001b[39msavetxt(TEST_TARGET_FILE,\u001b[43my_test\u001b[49m)\n\u001b[1;32m      2\u001b[0m np\u001b[38;5;241m.\u001b[39msavetxt(TEST_FEATURE_MATRIX,X_test)\n",
            "\u001b[0;31mNameError\u001b[0m: name 'y_test' is not defined"
          ],
          "output_type": "error"
        }
      ]
    },
    {
      "cell_type": "code",
      "source": "",
      "metadata": {},
      "execution_count": null,
      "outputs": []
    }
  ]
}